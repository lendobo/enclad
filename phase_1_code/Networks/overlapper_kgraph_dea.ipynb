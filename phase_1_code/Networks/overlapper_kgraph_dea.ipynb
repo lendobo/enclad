{
 "cells": [
  {
   "cell_type": "code",
   "execution_count": 1,
   "metadata": {},
   "outputs": [],
   "source": [
    "import numpy as np\n",
    "import pandas as pd\n",
    "import matplotlib.pyplot as plt\n"
   ]
  },
  {
   "cell_type": "code",
   "execution_count": 9,
   "metadata": {},
   "outputs": [],
   "source": [
    "cms2_dea = pd.read_csv('/home/celeroid/Documents/CLS_MSc/Thesis/EcoCancer/hNITR/phase_1_code/data/Synapse/TCGA/RNA_CMS_groups/TCGACRC_expression_cms2_top250.csv', index_col=0)\n",
    "cms4_dea = pd.read_csv('/home/celeroid/Documents/CLS_MSc/Thesis/EcoCancer/hNITR/phase_1_code/data/Synapse/TCGA/RNA_CMS_groups/TCGACRC_expression_cms4_top250.csv', index_col=0)\n",
    "\n",
    "cms2_dea.head()\n",
    "\n",
    "cms2_dea_nodes = cms2_dea.columns\n",
    "\n",
    "# kgraph"
   ]
  },
  {
   "cell_type": "code",
   "execution_count": 3,
   "metadata": {},
   "outputs": [
    {
     "data": {
      "text/plain": [
       "(      0\n",
       " 0  Gene\n",
       " 1  ZZZ3\n",
       " 2   ZYX\n",
       " 3  ZXDC\n",
       " 4  ZXDB,\n",
       "                      0\n",
       " 0          shared name\n",
       " 1     CNTN5 (FI) GPLD1\n",
       " 2  CEACAM16 (FI) CNTN5\n",
       " 3    AGBL5 (FI) POLR3A\n",
       " 4     GTPBP1 (FI) HDGF)"
      ]
     },
     "execution_count": 3,
     "metadata": {},
     "output_type": "execute_result"
    }
   ],
   "source": [
    "\n",
    "# Load the nodes and edges files\n",
    "nodes_df = pd.read_csv('/home/celeroid/Documents/CLS_MSc/Thesis/EcoCancer/hNITR/Cytoscape_FIViz/RNA_FI/RNA_GC_nodes.csv', header=None)\n",
    "edges_df = pd.read_csv('/home/celeroid/Documents/CLS_MSc/Thesis/EcoCancer/hNITR/Cytoscape_FIViz/RNA_FI/RNA_GC_edges_only.csv', header=None)\n",
    "\n",
    "# Display the first few rows of each dataframe\n",
    "nodes_df.head(), edges_df.head()"
   ]
  },
  {
   "cell_type": "code",
   "execution_count": 12,
   "metadata": {},
   "outputs": [
    {
     "name": "stdout",
     "output_type": "stream",
     "text": [
      "157\n",
      "93\n",
      "11930\n"
     ]
    }
   ],
   "source": [
    "# check what percentage of cms_2_dea_nodes is covered by nodes_df\n",
    "# check what percentage of cms_2_dea_nodes is covered by nodes_df\n",
    "\n",
    "# print(cms2_dea_nodes)\n",
    "\n",
    "print(len(set(cms2_dea_nodes).intersection(set(nodes_df[0]))))\n",
    "\n",
    "\n",
    "# print the number of genes that are in cms2_dea_nodes but not in nodes_df\n",
    "print(len(set(cms2_dea_nodes).difference(set(nodes_df[0]))))\n",
    "# print the number of genes that are in nodes_df but not in cms2_dea_nodes\n",
    "print(len(set(nodes_df[0]).difference(set(cms2_dea_nodes))))\n"
   ]
  }
 ],
 "metadata": {
  "kernelspec": {
   "display_name": "tmenet",
   "language": "python",
   "name": "python3"
  },
  "language_info": {
   "codemirror_mode": {
    "name": "ipython",
    "version": 3
   },
   "file_extension": ".py",
   "mimetype": "text/x-python",
   "name": "python",
   "nbconvert_exporter": "python",
   "pygments_lexer": "ipython3",
   "version": "3.9.16"
  }
 },
 "nbformat": 4,
 "nbformat_minor": 2
}
