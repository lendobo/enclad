{
 "cells": [
  {
   "cell_type": "code",
   "execution_count": 1,
   "metadata": {},
   "outputs": [],
   "source": [
    "import numpy as np\n",
    "import pandas as pd\n",
    "import matplotlib.pyplot as plt\n"
   ]
  },
  {
   "cell_type": "code",
   "execution_count": 11,
   "metadata": {},
   "outputs": [
    {
     "name": "stdout",
     "output_type": "stream",
     "text": [
      "['ACE2', 'ADH6', 'STOX1', 'TG', 'CYP2W1', 'DUOX2', 'ABCC2', 'LY6G6D', 'CEL', 'CCL20', 'MYRIP', 'SLC19A3', 'ERP27', 'CELP', 'DUOXA2', 'HUNK', 'SGK2', 'CTTNBP2', 'PRLR', 'TMEM63C', 'POU5F1B', 'NKD1', 'SLC26A2', 'PLCB4', 'C10orf99', 'FHDC1', 'VAV3', 'MEP1A', 'GPD1', 'DDN', 'SLC26A3', 'KRT23', 'SELENBP1', 'CPNE7', 'PTPRD', 'SPINK1', 'FGFR3', 'ABAT', 'XDH', 'A1CF', 'EREG', 'ID1', 'PPP1R14C', 'CDHR1', 'AXIN2', 'NOS2', 'GNG4', 'DDC', 'MIR17HG', 'SLC25A27', 'SULT1B1', 'ATP10B', 'NAALADL2', 'CYP2B6', 'C19orf46', 'LOC730101', 'NR1I2', 'CACNA1D', 'C13orf18', 'SLC5A9', 'TDGF1', 'PPP1R14D', 'CFTR', 'ARID3A', 'HHLA2', 'SYT7', 'CHN2', 'C20orf177', 'ABCC6P1', 'TMC5', 'LRRC19', 'MOGAT3', 'LRRC66', 'AKAP7', 'PFKFB2', 'CCL28', 'C4orf31', 'SP6', 'NAT2', 'POU5F1', 'PAQR8', 'CYP39A1', 'DNAJC6', 'ANO9', 'NCRNA00201', 'LCN2', 'CDHR2', 'ETV4', 'MALAT1', 'RNF157', 'TDGF3', 'SATB2', 'FOXD2', 'GLCE', 'RNF43', 'PANK1', 'PLAGL2', 'HOOK1', 'REEP1', 'NETO2']\n"
     ]
    }
   ],
   "source": [
    "filename = '/home/celeroid/Documents/CLS_MSc/Thesis/EcoCancer/hNITR/phase_1_code/data/Synapse/TCGA/RNA_CMS_groups/top500_cms2_names.txt'\n",
    "with open(filename) as f:\n",
    "    lines = f.readlines()\n",
    "    nodenames_CMS2_top_DEA = [line.rstrip() for line in lines]\n",
    "\n",
    "print(nodenames_CMS2_top_DEA[:100])"
   ]
  },
  {
   "cell_type": "code",
   "execution_count": 34,
   "metadata": {},
   "outputs": [
    {
     "name": "stdout",
     "output_type": "stream",
     "text": [
      "Of the top 500 Differentially Expressed CMS2 (vs CMS4) genes:\n",
      "\n",
      "Number of nodes with a Prior: 163, Fraction of total = 0.326\n",
      "Number of nodes WITHOUT a Prior: 337, Fraction of total = 0.674\n",
      "\n",
      "Fraction of top 100 genes that are in the Prior: 0.29\n",
      "Fraction of top 100 genes that are NOT in the Prior: 0.71\n",
      "\n",
      "Fraction of top 50 genes that are in the Prior: 0.36\n",
      "Fraction of top 50 genes that are NOT in the Prior: 0.64\n",
      "\n",
      "Fraction of top 25 genes that are in the Prior: 0.32\n",
      "Fraction of top 25 genes that are NOT in the Prior: 0.68\n",
      "\n",
      "Fraction of top 10 genes that are in the Prior: 0.3\n",
      "Fraction of top 10 genes that are NOT in the Prior: 0.7\n",
      "\n"
     ]
    }
   ],
   "source": [
    "# nodes with prior edges\n",
    "filename = '/home/celeroid/Documents/CLS_MSc/Thesis/EcoCancer/hNITR/Cytoscape_FIViz/RNA_FI/nodenames_CMS2_prior_from500.txt'\n",
    "with open(filename) as f:\n",
    "    lines = f.readlines()\n",
    "    # remove whitespace characters like `\\n` at the end of each line\n",
    "    nodenames_CMS2_prior = [x.strip() for x in lines]\n",
    "\n",
    "# Nodes without prior edges\n",
    "filename = '/home/celeroid/Documents/CLS_MSc/Thesis/EcoCancer/hNITR/Cytoscape_FIViz/RNA_FI/nodenames_CMS2_NOprior_from500.txt'\n",
    "with open(filename) as f:\n",
    "    lines = f.readlines()\n",
    "    # remove whitespace characters like `\\n` at the end of each line\n",
    "    nodenames_CMS2_NO_prior = [x.strip() for x in lines]\n",
    "\n",
    "print(f'Of the top {len(nodenames_CMS2_top_DEA)} Differentially Expressed CMS2 (vs CMS4) genes:\\n')\n",
    "\n",
    "print(f'Number of nodes with a Prior: {len(nodenames_CMS2_prior)}, Fraction of total = {len(nodenames_CMS2_prior)/len(nodenames_CMS2_top_DEA)}')\n",
    "print(f'Number of nodes WITHOUT a Prior: {len(nodenames_CMS2_NO_prior)}, Fraction of total = {len(nodenames_CMS2_NO_prior)/len(nodenames_CMS2_top_DEA)}\\n')\n",
    "\n",
    "print(f'Fraction of top 100 genes that are in the Prior: {len(set(nodenames_CMS2_top_DEA[:100]).intersection(set(nodenames_CMS2_prior)))/100}')\n",
    "print(f'Fraction of top 100 genes that are NOT in the Prior: {len(set(nodenames_CMS2_top_DEA[:100]).intersection(set(nodenames_CMS2_NO_prior)))/100}\\n')\n",
    "\n",
    "print(f'Fraction of top 50 genes that are in the Prior: {len(set(nodenames_CMS2_top_DEA[:50]).intersection(set(nodenames_CMS2_prior)))/50}')\n",
    "print(f'Fraction of top 50 genes that are NOT in the Prior: {len(set(nodenames_CMS2_top_DEA[:50]).intersection(set(nodenames_CMS2_NO_prior)))/50}\\n')\n",
    "\n",
    "print(f'Fraction of top 25 genes that are in the Prior: {len(set(nodenames_CMS2_top_DEA[:25]).intersection(set(nodenames_CMS2_prior)))/25}')\n",
    "print(f'Fraction of top 25 genes that are NOT in the Prior: {len(set(nodenames_CMS2_top_DEA[:25]).intersection(set(nodenames_CMS2_NO_prior)))/25}\\n')\n",
    "\n",
    "print(f'Fraction of top 10 genes that are in the Prior: {len(set(nodenames_CMS2_top_DEA[:10]).intersection(set(nodenames_CMS2_prior)))/10}')\n",
    "print(f'Fraction of top 10 genes that are NOT in the Prior: {len(set(nodenames_CMS2_top_DEA[:10]).intersection(set(nodenames_CMS2_NO_prior)))/10}\\n')"
   ]
  },
  {
   "cell_type": "code",
   "execution_count": 18,
   "metadata": {},
   "outputs": [
    {
     "name": "stdout",
     "output_type": "stream",
     "text": [
      "29\n",
      "71\n"
     ]
    }
   ],
   "source": [
    "# check the size of the intersection of nodenames_CMS2_top_DEA[:100] and nodenames_CMS2_prior\n",
    "print(len(set(nodenames_CMS2_top_DEA[:100]) & set(nodenames_CMS2_prior)))\n",
    "# check the size of the intersection of nodenames_CMS2_top_DEA[:100] and nodenames_CMS2_NO_prior\n",
    "print(len(set(nodenames_CMS2_top_DEA[:100]) & set(nodenames_CMS2_NO_prior)))\n"
   ]
  }
 ],
 "metadata": {
  "kernelspec": {
   "display_name": "tmenet",
   "language": "python",
   "name": "python3"
  },
  "language_info": {
   "codemirror_mode": {
    "name": "ipython",
    "version": 3
   },
   "file_extension": ".py",
   "mimetype": "text/x-python",
   "name": "python",
   "nbconvert_exporter": "python",
   "pygments_lexer": "ipython3",
   "version": "3.9.18"
  }
 },
 "nbformat": 4,
 "nbformat_minor": 2
}
